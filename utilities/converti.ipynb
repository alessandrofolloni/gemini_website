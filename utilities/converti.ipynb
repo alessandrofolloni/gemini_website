{
 "cells": [
  {
   "cell_type": "code",
   "execution_count": 2,
   "metadata": {},
   "outputs": [
    {
     "name": "stdout",
     "output_type": "stream",
     "text": [
      "Convertito images/unnamed2.jpg in formato jpg\n",
      "Convertito images/logo.jpg in formato jpg\n",
      "Convertito images/unnamed.jpg in formato jpg\n",
      "Convertito images/r738-Bar-Gemini-design.jpg in formato jpg\n"
     ]
    }
   ],
   "source": [
    "from PIL import Image\n",
    "import os\n",
    "\n",
    "def convert_images_to_format(input_folder, output_folder, output_format):\n",
    "    # Assicurati che la cartella di output esista, altrimenti creala\n",
    "    if not os.path.exists(output_folder):\n",
    "        os.makedirs(output_folder)\n",
    "\n",
    "    # Elabora ogni file nella cartella di input\n",
    "    for filename in os.listdir(input_folder):\n",
    "        input_path = os.path.join(input_folder, filename)\n",
    "        output_path = os.path.join(output_folder, filename)\n",
    "\n",
    "        # Se il file è un'immagine\n",
    "        if os.path.isfile(input_path) and any(input_path.endswith(extension) for extension in ['.jpg', '.jpeg', '.png']):\n",
    "            # Apri l'immagine\n",
    "            image = Image.open(input_path)\n",
    "\n",
    "            # Salva l'immagine nel formato desiderato\n",
    "            output_format = output_format.lower()  # Assicurati che il formato sia in minuscolo\n",
    "            image.save(output_path.replace(os.path.splitext(filename)[1], f\".{output_format}\"))\n",
    "\n",
    "            print(f\"Convertito {input_path} in formato {output_format}\")\n",
    "\n",
    "# Esempio di utilizzo\n",
    "input_folder = \"images\"\n",
    "output_folder = \"converted_images\"\n",
    "output_format = \"jpg\"  # Puoi sostituire con il formato desiderato, ad esempio \"png\"\n",
    "\n",
    "convert_images_to_format(input_folder, output_folder, output_format)\n"
   ]
  }
 ],
 "metadata": {
  "kernelspec": {
   "display_name": "Python 3",
   "language": "python",
   "name": "python3"
  },
  "language_info": {
   "codemirror_mode": {
    "name": "ipython",
    "version": 3
   },
   "file_extension": ".py",
   "mimetype": "text/x-python",
   "name": "python",
   "nbconvert_exporter": "python",
   "pygments_lexer": "ipython3",
   "version": "3.10.0"
  }
 },
 "nbformat": 4,
 "nbformat_minor": 2
}
